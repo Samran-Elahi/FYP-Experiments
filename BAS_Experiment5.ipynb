{
  "nbformat": 4,
  "nbformat_minor": 0,
  "metadata": {
    "colab": {
      "name": "BAS_Experiment5.ipynb",
      "provenance": [],
      "collapsed_sections": [],
      "toc_visible": true,
      "machine_shape": "hm"
    },
    "kernelspec": {
      "name": "python3",
      "display_name": "Python 3"
    },
    "accelerator": "GPU"
  },
  "cells": [
    {
      "cell_type": "code",
      "metadata": {
        "id": "4RirquRW2Saf",
        "colab_type": "code",
        "outputId": "2343e9a5-fd03-4f1c-c791-6eea326c676b",
        "colab": {
          "base_uri": "https://localhost:8080/",
          "height": 122
        }
      },
      "source": [
        "\n",
        "from google.colab import drive\n",
        "drive.mount('/content/drive')"
      ],
      "execution_count": 0,
      "outputs": [
        {
          "output_type": "stream",
          "text": [
            "Go to this URL in a browser: https://accounts.google.com/o/oauth2/auth?client_id=947318989803-6bn6qk8qdgf4n4g3pfee6491hc0brc4i.apps.googleusercontent.com&redirect_uri=urn%3aietf%3awg%3aoauth%3a2.0%3aoob&response_type=code&scope=email%20https%3a%2f%2fwww.googleapis.com%2fauth%2fdocs.test%20https%3a%2f%2fwww.googleapis.com%2fauth%2fdrive%20https%3a%2f%2fwww.googleapis.com%2fauth%2fdrive.photos.readonly%20https%3a%2f%2fwww.googleapis.com%2fauth%2fpeopleapi.readonly\n",
            "\n",
            "Enter your authorization code:\n",
            "··········\n",
            "Mounted at /content/drive\n"
          ],
          "name": "stdout"
        }
      ]
    },
    {
      "cell_type": "code",
      "metadata": {
        "id": "ENEqVsMs2c7g",
        "colab_type": "code",
        "outputId": "1fded50f-b16c-4cf7-ebc3-1dcbb0c89422",
        "colab": {
          "base_uri": "https://localhost:8080/",
          "height": 34
        }
      },
      "source": [
        "cd \"/content/drive/My Drive/Activation Map Based Ensembles\""
      ],
      "execution_count": 0,
      "outputs": [
        {
          "output_type": "stream",
          "text": [
            "/content/drive/My Drive/Activation Map Based Ensembles\n"
          ],
          "name": "stdout"
        }
      ]
    },
    {
      "cell_type": "markdown",
      "metadata": {
        "id": "6uSu77av26lB",
        "colab_type": "text"
      },
      "source": [
        "#Work Starts From Here"
      ]
    },
    {
      "cell_type": "code",
      "metadata": {
        "id": "FS7f0jAhEA2-",
        "colab_type": "code",
        "outputId": "8d4436f7-ef0f-4d79-98fe-5687a237eb1c",
        "colab": {
          "base_uri": "https://localhost:8080/",
          "height": 34
        }
      },
      "source": [
        "%tensorflow_version 2.x"
      ],
      "execution_count": 0,
      "outputs": [
        {
          "output_type": "stream",
          "text": [
            "TensorFlow 2.x selected.\n"
          ],
          "name": "stdout"
        }
      ]
    },
    {
      "cell_type": "code",
      "metadata": {
        "id": "zZLVvm22Ego1",
        "colab_type": "code",
        "colab": {}
      },
      "source": [
        "%matplotlib inline\n",
        "import matplotlib.pyplot as plt\n",
        "import tensorflow as tf\n",
        "import datasets\n",
        "from tensorflow.keras.layers import Conv2D, Activation, GlobalAveragePooling2D, Flatten, Dense\n",
        "import numpy as np \n",
        "import pandas as pd \n",
        "from sklearn.metrics import pairwise_distances\n",
        "from sklearn.metrics.pairwise import pairwise_kernels\n",
        "from scipy import spatial\n",
        "from scipy.stats import norm\n",
        "from tqdm import tqdm\n",
        "\n",
        "class ModelX(tf.keras.Model):\n",
        "  \n",
        "  def __init__(self, dataset_name, x_train=None, y_train=None):\n",
        "  \t# call the parent constructor\n",
        "    super(ModelX, self).__init__()\n",
        "    if type(x_train)== type(None):\n",
        "    \n",
        "      self.mean_activation_map = None\n",
        "      self.classes = None\n",
        "      (self.x_train, self.y_train), (self.x_test, self.y_test) = datasets.Datasets().load_data(dataset_name)\n",
        "      self.NumClasses = 10 # Genralize this\n",
        "      self.x_train = self.x_train.astype('float32')\n",
        "      self.x_test = self.x_test.astype('float32')\n",
        "      self.x_train /= 255                             \n",
        "      self.x_test /= 255  \n",
        "      self.y_train_actual = self.y_train.copy()\n",
        "      self.y_test_actual = self.y_test.copy()\n",
        "      self.y_train = tf.keras.utils.to_categorical(self.y_train, 10)\n",
        "      self.y_test = tf.keras.utils.to_categorical(self.y_test, 10)\n",
        "    else:\n",
        "      self.mean_activation_map = None\n",
        "      self.classes = None\n",
        "      (self.x_train, self.y_train), (self.x_test, self.y_test) = datasets.Datasets().load_data(dataset_name)\n",
        "      self.x_train = x_train\n",
        "      self.y_train = y_train\n",
        "      self.NumClasses = 10 # Genralize this\n",
        "      self.x_train = self.x_train.astype('float32')\n",
        "      self.x_test = self.x_test.astype('float32')\n",
        "      self.x_train /= 255                             \n",
        "      self.x_test /= 255  \n",
        "      self.y_train_actual = self.y_train.copy()\n",
        "      self.y_test_actual = self.y_test.copy()\n",
        "      self.y_train = y_train\n",
        "      self.y_test = tf.keras.utils.to_categorical(self.y_test, 10)\n",
        "  \t\n",
        "    # layer set\n",
        "    self.conv1 = Conv2D(32, (3, 3), padding=\"same\", activation=\"relu\")\n",
        "    self.conv2 = Conv2D(32, (3, 3), padding=\"same\", activation=\"relu\")\n",
        "    \n",
        "    #Flattening\n",
        "    self.flatten = Flatten()\n",
        "    \n",
        "    #Fully connected like part\n",
        "    self.dense1 = Dense(512, activation=\"relu\")\n",
        "    self.dense2 = Dense(self.NumClasses, activation=\"softmax\") \n",
        "\n",
        "  def call(self, inputs):\n",
        "    # forward pass\n",
        "    x = self.conv1(inputs)\n",
        "    x = self.conv2(x)\n",
        "    x = self.flatten(x)\n",
        "    x = self.dense1(x)\n",
        "    x = self.dense2(x)\n",
        "    return x\n",
        "  \n",
        "  def train(self):\n",
        "    model.compile(loss='categorical_crossentropy',\n",
        "              optimizer=\"adam\",\n",
        "              metrics=['accuracy'])\n",
        "    history = model.fit(self.x_train, self.y_train, verbose=1, validation_data=(self.x_test, self.y_test),epochs=5, batch_size=32)\n",
        "    loss_and_metrics = model.evaluate(self.x_test, self.y_test, batch_size=128)\n",
        "    loss2_and_metrics= model.evaluate(self.x_train,self.y_train,batch_size=128)\n",
        "    print('Test loss:', loss_and_metrics[0])\n",
        "    print('Test accuracy:', loss_and_metrics[1])\n",
        "    print(\"  train accuracy : \",loss2_and_metrics[1])\n",
        "    return history, loss_and_metrics[0], loss_and_metrics[1]\n",
        "\n",
        "  def train_partial(self, x_train, y_train):\n",
        "    history = model.fit(x_train, y_train, verbose=1, validation_data=(self.x_test, self.y_test),epochs=5, batch_size=32)\n",
        "    loss_and_metrics = model.evaluate(self.x_test, self.y_test, batch_size=128)\n",
        "    loss2_and_metrics= model.evaluate(self.x_train,self.y_train,batch_size=128)\n",
        "    print('Test loss:', loss_and_metrics[0])\n",
        "    print('Test accuracy:', loss_and_metrics[1])\n",
        "    print(\"  train accuracy : \",loss2_and_metrics[1])\n",
        "    return history, loss_and_metrics[0], loss_and_metrics[1]\n",
        "  \n",
        "  def evaluate_test(self):\n",
        "    loss_and_metrics = model.evaluate(self.x_test, self.y_test, batch_size=128)\n",
        "    loss2_and_metrics= model.evaluate(self.x_train,self.y_train,batch_size=128)\n",
        "    print('Test loss:', loss_and_metrics[0])\n",
        "    print('Test accuracy:', loss_and_metrics[1])\n",
        "    return\n",
        "\n",
        "  def seperate_classes(self):              # this function sperates the data according to classes and returns a list of X_train and y_train sperated\n",
        "    self.classes = np.unique(self.y_train_actual)  # on the basis of class \n",
        "    samples_per_class = []\n",
        "    for c in self.classes:\n",
        "      arr = self.y_train_actual==c\n",
        "      arr = np.reshape(arr,(arr.shape[0]))\n",
        "      samples = self.x_train[arr,:,:,:]\n",
        "      labels = self.y_train[arr,:]\n",
        "      #print(samples.shape)\n",
        "      #print(labels.shape)\n",
        "      samples_per_class.append((samples,labels))\n",
        "    # print(samples_per_class)\n",
        "    return samples_per_class\n",
        "\n",
        "  def mean_activation(self, inputs):\n",
        "    x = self.conv1(inputs)\n",
        "    mean_act1 = x.numpy()\n",
        "    mean_act1 = np.mean(mean_act1.reshape(mean_act1.shape[0], mean_act1.shape[1] * mean_act1.shape[2] * mean_act1.shape[3]), axis=0)\n",
        "    #print(mean_act1.shape)\n",
        "\n",
        "    x = self.conv2(x)\n",
        "    mean_act2 = x.numpy()\n",
        "    mean_act2 = np.mean(mean_act2.reshape(mean_act2.shape[0], mean_act2.shape[1] * mean_act2.shape[2] * mean_act2.shape[3]), axis=0)\n",
        "    #print(mean_act2.shape)\n",
        "\n",
        "    x = self.flatten(x)\n",
        "    x = self.dense1(x)\n",
        "    mean_act3 = x.numpy()\n",
        "    mean_act3 = np.mean(mean_act3, axis=0)\n",
        "    #print(mean_act3.shape)\n",
        "\n",
        "    x = self.dense2(x)\n",
        "    mean_act4 = x.numpy()\n",
        "    mean_act4 = np.mean(mean_act4, axis=0)\n",
        "    #print(mean_act4.shape)\n",
        "    return np.concatenate(( mean_act3, mean_act4), axis=None) #> check if this folder work\n",
        "\n",
        "  def get_distance(self, sample_act, mean_act, distance_name=\"correlation\"):\n",
        "    if (distance_name==\"cosine\"):\n",
        "      distance = spatial.distance.cosine(sample_act, mean_act)\n",
        "    \n",
        "    elif(distance_name==\"correlation\"):\n",
        "      distance = spatial.distance.correlation(sample_act, mean_act)\n",
        "    \n",
        "    elif(distance_name==\"linear\"):\n",
        "      distance = spatial.distance.linear(sample_act, mean_act)\n",
        "    \n",
        "    elif(distance_name==\"euclidean\"):\n",
        "      distance = spatial.distance.euclidean(sample_act, mean_act)\n",
        "    \n",
        "    else:\n",
        "      print(\"\\nSorry distance not present \") # code should stop execution here insert an assert here\n",
        "    return distance\n",
        "  def fit_normal_return_index(self,distance):\n",
        "      mean, std = norm.fit(distance)\n",
        "      print(\"Mean\", mean)\n",
        "      print(\"Std\", std)\n",
        "      print(\"Upper Limit\", (mean+(std*2)))\n",
        "      print(\"Lower Limit\", (mean-(std*2)))\n",
        "      index = np.where(distance>(mean+(std*2)))\n",
        "      index2 = np.where(distance<(mean-(std*2)))\n",
        "      return np.concatenate((index,index2), axis=None) # galaat howa samran ki galti\n",
        "\n",
        "  def get_activation_per_class(self):\n",
        "    # print(\"in get_activation_per_class\")\n",
        "    samples_per_class = self.seperate_classes()\n",
        "    # print(\"classes seperated\")\n",
        "    mean_activation_map = {}\n",
        "    for idx, single_class in enumerate(samples_per_class):\n",
        "      single_class_samples = single_class[0]\n",
        "      single_class_labels  = single_class[1] \n",
        "      # print(\"taking mean activation for single class\")\n",
        "      mean_activation_map[self.classes[idx]] = self.mean_activation(single_class_samples) \n",
        "      # print(\"Test\")\n",
        "      print(self.classes[idx])\n",
        "      print(single_class_labels[0])\n",
        "      # print(\"{} class done\".format(idx))\n",
        "    self.mean_activation_map = mean_activation_map\n",
        "    return  mean_activation_map\n",
        "\n",
        "  def get_bad_samples(self):\n",
        "    all_bad_samples = []\n",
        "    samples_per_class = self.seperate_classes()\n",
        "    for idx, single_class in tqdm(enumerate(samples_per_class)): #loop per class\n",
        "      single_class_samples = single_class[0]\n",
        "      single_class_labels  = single_class[1] \n",
        "      distance_from_mean = []\n",
        "      for sample in single_class_samples: #loop per sample\n",
        "        # print(\"single class sample\",sample.shape)\n",
        "        sample_mean_activation = self.mean_activation(sample[np.newaxis,...])\n",
        "        # print(\"sample_mean_activation\",sample_mean_activation.shape)\n",
        "        # print(\"class Mean activation\", self.mean_activation_map[idx].shape )\n",
        "        distance_from_mean.append(self.get_distance(sample_mean_activation, self.mean_activation_map[idx]))\n",
        "      # Fit gaussain and get indexes\n",
        "      print(\"Finding bad index\")\n",
        "      bad_sample_index = self.fit_normal_return_index(distance_from_mean)\n",
        "      bad_samples = single_class_samples[bad_sample_index,:,:,:]  \n",
        "      bad_samples_labels = single_class_labels[bad_sample_index,:]\n",
        "      all_bad_samples.append((bad_samples, bad_samples_labels))\n",
        "    return all_bad_samples\n",
        "\n",
        "      \n",
        "        \n"
      ],
      "execution_count": 0,
      "outputs": []
    },
    {
      "cell_type": "code",
      "metadata": {
        "id": "UZuvy1NhLMF0",
        "colab_type": "code",
        "outputId": "d07114d4-6a3d-40d3-c2d3-e0535bc3fe2e",
        "colab": {
          "base_uri": "https://localhost:8080/",
          "height": 85
        }
      },
      "source": [
        "model = ModelX(\"cifar10\")"
      ],
      "execution_count": 0,
      "outputs": [
        {
          "output_type": "stream",
          "text": [
            "dataset class object created\n",
            "loading Dataset  cifar10\n",
            "Downloading data from https://www.cs.toronto.edu/~kriz/cifar-10-python.tar.gz\n",
            "170500096/170498071 [==============================] - 3s 0us/step\n"
          ],
          "name": "stdout"
        }
      ]
    },
    {
      "cell_type": "code",
      "metadata": {
        "id": "CDlMymqZLbWe",
        "colab_type": "code",
        "outputId": "37913410-c806-4489-970f-38632381c4b1",
        "colab": {
          "base_uri": "https://localhost:8080/",
          "height": 340
        }
      },
      "source": [
        "model.train()"
      ],
      "execution_count": 0,
      "outputs": [
        {
          "output_type": "stream",
          "text": [
            "Train on 50000 samples, validate on 10000 samples\n",
            "Epoch 1/5\n",
            "50000/50000 [==============================] - 29s 583us/sample - loss: 1.4349 - accuracy: 0.4925 - val_loss: 1.1719 - val_accuracy: 0.5801\n",
            "Epoch 2/5\n",
            "50000/50000 [==============================] - 23s 450us/sample - loss: 0.9955 - accuracy: 0.6499 - val_loss: 1.0344 - val_accuracy: 0.6343\n",
            "Epoch 3/5\n",
            "50000/50000 [==============================] - 22s 450us/sample - loss: 0.6996 - accuracy: 0.7554 - val_loss: 1.0297 - val_accuracy: 0.6454\n",
            "Epoch 4/5\n",
            "50000/50000 [==============================] - 23s 454us/sample - loss: 0.3993 - accuracy: 0.8635 - val_loss: 1.1912 - val_accuracy: 0.6421\n",
            "Epoch 5/5\n",
            "50000/50000 [==============================] - 23s 456us/sample - loss: 0.1789 - accuracy: 0.9403 - val_loss: 1.5609 - val_accuracy: 0.6405\n",
            "10000/10000 [==============================] - 1s 88us/sample - loss: 1.5609 - accuracy: 0.6405\n",
            "50000/50000 [==============================] - 4s 84us/sample - loss: 0.0897 - accuracy: 0.9759\n",
            "Test loss: 1.5609483100891113\n",
            "Test accuracy: 0.6405\n",
            "  train accuracy :  0.97588\n"
          ],
          "name": "stdout"
        },
        {
          "output_type": "execute_result",
          "data": {
            "text/plain": [
              "(<tensorflow.python.keras.callbacks.History at 0x7feb9054a6d8>,\n",
              " 1.5609483100891113,\n",
              " 0.6405)"
            ]
          },
          "metadata": {
            "tags": []
          },
          "execution_count": 6
        }
      ]
    },
    {
      "cell_type": "code",
      "metadata": {
        "id": "bIEjWIj_MVBW",
        "colab_type": "code",
        "outputId": "59f503f9-510d-41eb-da9d-b9de3829a5f9",
        "colab": {
          "base_uri": "https://localhost:8080/",
          "height": 357
        }
      },
      "source": [
        "mean_activation_map = model.get_activation_per_class()"
      ],
      "execution_count": 0,
      "outputs": [
        {
          "output_type": "stream",
          "text": [
            "0\n",
            "[1. 0. 0. 0. 0. 0. 0. 0. 0. 0.]\n",
            "1\n",
            "[0. 1. 0. 0. 0. 0. 0. 0. 0. 0.]\n",
            "2\n",
            "[0. 0. 1. 0. 0. 0. 0. 0. 0. 0.]\n",
            "3\n",
            "[0. 0. 0. 1. 0. 0. 0. 0. 0. 0.]\n",
            "4\n",
            "[0. 0. 0. 0. 1. 0. 0. 0. 0. 0.]\n",
            "5\n",
            "[0. 0. 0. 0. 0. 1. 0. 0. 0. 0.]\n",
            "6\n",
            "[0. 0. 0. 0. 0. 0. 1. 0. 0. 0.]\n",
            "7\n",
            "[0. 0. 0. 0. 0. 0. 0. 1. 0. 0.]\n",
            "8\n",
            "[0. 0. 0. 0. 0. 0. 0. 0. 1. 0.]\n",
            "9\n",
            "[0. 0. 0. 0. 0. 0. 0. 0. 0. 1.]\n"
          ],
          "name": "stdout"
        }
      ]
    },
    {
      "cell_type": "code",
      "metadata": {
        "id": "mzTps94IDSO1",
        "colab_type": "code",
        "outputId": "07526aca-7217-44e9-f9af-4b80ea57bd50",
        "colab": {
          "base_uri": "https://localhost:8080/",
          "height": 34
        }
      },
      "source": [
        "mean_activation_map[0].shape"
      ],
      "execution_count": 0,
      "outputs": [
        {
          "output_type": "execute_result",
          "data": {
            "text/plain": [
              "(522,)"
            ]
          },
          "metadata": {
            "tags": []
          },
          "execution_count": 8
        }
      ]
    },
    {
      "cell_type": "code",
      "metadata": {
        "id": "gHNhCwpkQlB2",
        "colab_type": "code",
        "outputId": "bee85e6f-1de4-421f-90ba-3a558857a592",
        "colab": {
          "base_uri": "https://localhost:8080/",
          "height": 204
        }
      },
      "source": [
        "print(mean_activation_map.keys())\n",
        "for key in mean_activation_map.keys():\n",
        "  print(mean_activation_map[key].shape)"
      ],
      "execution_count": 0,
      "outputs": [
        {
          "output_type": "stream",
          "text": [
            "dict_keys([0, 1, 2, 3, 4, 5, 6, 7, 8, 9])\n",
            "(522,)\n",
            "(522,)\n",
            "(522,)\n",
            "(522,)\n",
            "(522,)\n",
            "(522,)\n",
            "(522,)\n",
            "(522,)\n",
            "(522,)\n",
            "(522,)\n"
          ],
          "name": "stdout"
        }
      ]
    },
    {
      "cell_type": "code",
      "metadata": {
        "id": "rA1DPAHUR4ZD",
        "colab_type": "code",
        "outputId": "ae8700b4-7b65-436e-8035-f6a0fb4682fc",
        "colab": {
          "base_uri": "https://localhost:8080/",
          "height": 884
        }
      },
      "source": [
        "bad_data = model.get_bad_samples()"
      ],
      "execution_count": 0,
      "outputs": [
        {
          "output_type": "stream",
          "text": [
            "1it [00:23, 23.79s/it]"
          ],
          "name": "stderr"
        },
        {
          "output_type": "stream",
          "text": [
            "Finding bad index\n",
            "Mean 0.4208399064660072\n",
            "Std 0.13507267771704612\n",
            "Upper Limit 0.6909852619000995\n",
            "Lower Limit 0.15069455103191498\n"
          ],
          "name": "stdout"
        },
        {
          "output_type": "stream",
          "text": [
            "\r2it [00:47, 23.67s/it]"
          ],
          "name": "stderr"
        },
        {
          "output_type": "stream",
          "text": [
            "Finding bad index\n",
            "Mean 0.37509875757992267\n",
            "Std 0.10011391586596093\n",
            "Upper Limit 0.5753265893118445\n",
            "Lower Limit 0.17487092584800082\n"
          ],
          "name": "stdout"
        },
        {
          "output_type": "stream",
          "text": [
            "\r3it [01:10, 23.58s/it]"
          ],
          "name": "stderr"
        },
        {
          "output_type": "stream",
          "text": [
            "Finding bad index\n",
            "Mean 0.47752969224452974\n",
            "Std 0.1022666979413927\n",
            "Upper Limit 0.6820630881273151\n",
            "Lower Limit 0.27299629636174433\n"
          ],
          "name": "stdout"
        },
        {
          "output_type": "stream",
          "text": [
            "\r4it [01:34, 23.57s/it]"
          ],
          "name": "stderr"
        },
        {
          "output_type": "stream",
          "text": [
            "Finding bad index\n",
            "Mean 0.44742117789387703\n",
            "Std 0.09497746224803408\n",
            "Upper Limit 0.6373761023899451\n",
            "Lower Limit 0.2574662533978089\n"
          ],
          "name": "stdout"
        },
        {
          "output_type": "stream",
          "text": [
            "\r5it [01:57, 23.59s/it]"
          ],
          "name": "stderr"
        },
        {
          "output_type": "stream",
          "text": [
            "Finding bad index\n",
            "Mean 0.39586371214091776\n",
            "Std 0.12007945215434516\n",
            "Upper Limit 0.6360226164496081\n",
            "Lower Limit 0.15570480783222743\n"
          ],
          "name": "stdout"
        },
        {
          "output_type": "stream",
          "text": [
            "\r6it [02:21, 23.56s/it]"
          ],
          "name": "stderr"
        },
        {
          "output_type": "stream",
          "text": [
            "Finding bad index\n",
            "Mean 0.424801035836339\n",
            "Std 0.09518993375890587\n",
            "Upper Limit 0.6151809033541508\n",
            "Lower Limit 0.23442116831852725\n"
          ],
          "name": "stdout"
        },
        {
          "output_type": "stream",
          "text": [
            "\r7it [02:44, 23.50s/it]"
          ],
          "name": "stderr"
        },
        {
          "output_type": "stream",
          "text": [
            "Finding bad index\n",
            "Mean 0.37198982736170294\n",
            "Std 0.11670057109921707\n",
            "Upper Limit 0.605390969560137\n",
            "Lower Limit 0.1385886851632688\n"
          ],
          "name": "stdout"
        },
        {
          "output_type": "stream",
          "text": [
            "\r8it [03:07, 23.44s/it]"
          ],
          "name": "stderr"
        },
        {
          "output_type": "stream",
          "text": [
            "Finding bad index\n",
            "Mean 0.40036139416098593\n",
            "Std 0.10531502979502967\n",
            "Upper Limit 0.6109914537510452\n",
            "Lower Limit 0.18973133457092659\n"
          ],
          "name": "stdout"
        },
        {
          "output_type": "stream",
          "text": [
            "\r9it [03:31, 23.43s/it]"
          ],
          "name": "stderr"
        },
        {
          "output_type": "stream",
          "text": [
            "Finding bad index\n",
            "Mean 0.37894552067816256\n",
            "Std 0.12314703676281288\n",
            "Upper Limit 0.6252395942037883\n",
            "Lower Limit 0.1326514471525368\n"
          ],
          "name": "stdout"
        },
        {
          "output_type": "stream",
          "text": [
            "\r10it [03:54, 23.50s/it]"
          ],
          "name": "stderr"
        },
        {
          "output_type": "stream",
          "text": [
            "Finding bad index\n",
            "Mean 0.36723095823675395\n",
            "Std 0.1003476226246897\n",
            "Upper Limit 0.5679262034861333\n",
            "Lower Limit 0.16653571298737455\n"
          ],
          "name": "stdout"
        },
        {
          "output_type": "stream",
          "text": [
            "\n"
          ],
          "name": "stderr"
        }
      ]
    },
    {
      "cell_type": "code",
      "metadata": {
        "id": "IduTD7Oed408",
        "colab_type": "code",
        "outputId": "b9288740-d478-4b71-d449-f658e59397ea",
        "colab": {
          "base_uri": "https://localhost:8080/",
          "height": 204
        }
      },
      "source": [
        "x_train_bad_samples = bad_data[0][0]\n",
        "y_train_bad_labels = bad_data[0][1]\n",
        "for one_class in bad_data[1:]:\n",
        "  print(one_class[0].shape)\n",
        "  x_train_bad_samples = np.concatenate((x_train_bad_samples,one_class[0]),axis=0)\n",
        "  y_train_bad_labels = np.concatenate((y_train_bad_labels,one_class[1]),axis=0)\n",
        "print(x_train_bad_samples.shape)\n",
        "print(y_train_bad_labels.shape)"
      ],
      "execution_count": 0,
      "outputs": [
        {
          "output_type": "stream",
          "text": [
            "(207, 32, 32, 3)\n",
            "(155, 32, 32, 3)\n",
            "(202, 32, 32, 3)\n",
            "(176, 32, 32, 3)\n",
            "(220, 32, 32, 3)\n",
            "(203, 32, 32, 3)\n",
            "(206, 32, 32, 3)\n",
            "(193, 32, 32, 3)\n",
            "(211, 32, 32, 3)\n",
            "(1988, 32, 32, 3)\n",
            "(1988, 10)\n"
          ],
          "name": "stdout"
        }
      ]
    },
    {
      "cell_type": "code",
      "metadata": {
        "id": "ncRVYtlBAUcb",
        "colab_type": "code",
        "outputId": "181600f8-0f0b-47e2-9d53-752d787ce450",
        "colab": {
          "base_uri": "https://localhost:8080/",
          "height": 34
        }
      },
      "source": [
        "x_train_bad_samples.shape"
      ],
      "execution_count": 0,
      "outputs": [
        {
          "output_type": "execute_result",
          "data": {
            "text/plain": [
              "(1988, 32, 32, 3)"
            ]
          },
          "metadata": {
            "tags": []
          },
          "execution_count": 12
        }
      ]
    },
    {
      "cell_type": "code",
      "metadata": {
        "id": "LA8YrMURd_qu",
        "colab_type": "code",
        "outputId": "07358fc1-b7a8-4499-a165-27c733caddd1",
        "colab": {
          "base_uri": "https://localhost:8080/",
          "height": 51
        }
      },
      "source": [
        "model.evaluate(x=x_train_bad_samples,y=y_train_bad_labels)"
      ],
      "execution_count": 0,
      "outputs": [
        {
          "output_type": "stream",
          "text": [
            "1988/1988 [==============================] - 0s 211us/sample - loss: 0.2206 - accuracy: 0.9391\n"
          ],
          "name": "stdout"
        },
        {
          "output_type": "execute_result",
          "data": {
            "text/plain": [
              "[0.22060580818185666, 0.93913484]"
            ]
          },
          "metadata": {
            "tags": []
          },
          "execution_count": 13
        }
      ]
    },
    {
      "cell_type": "code",
      "metadata": {
        "id": "96k9V-kDDwYS",
        "colab_type": "code",
        "colab": {}
      },
      "source": [
        "pred =  model.predict(x_train_bad_samples)"
      ],
      "execution_count": 0,
      "outputs": []
    },
    {
      "cell_type": "code",
      "metadata": {
        "id": "ZGxZyZRKPvd6",
        "colab_type": "code",
        "colab": {}
      },
      "source": [
        ""
      ],
      "execution_count": 0,
      "outputs": []
    },
    {
      "cell_type": "code",
      "metadata": {
        "id": "wjN651tlD4rw",
        "colab_type": "code",
        "outputId": "6fa17c1d-788c-465f-cdd5-7f9086ef5ff8",
        "colab": {
          "base_uri": "https://localhost:8080/",
          "height": 255
        }
      },
      "source": [
        "pred2 = model.predict_on_batch(x_train_bad_samples)\n",
        "print(pred2)\n"
      ],
      "execution_count": 0,
      "outputs": [
        {
          "output_type": "stream",
          "text": [
            "tf.Tensor(\n",
            "[[3.18631589e-01 2.41400310e-04 9.14026573e-02 ... 1.31040379e-01\n",
            "  6.69122869e-07 4.77377253e-05]\n",
            " [9.65649605e-01 2.84622347e-05 2.28562369e-03 ... 3.20645972e-06\n",
            "  1.06135478e-04 1.67696024e-04]\n",
            " [9.66297030e-01 8.59045122e-06 1.15577386e-04 ... 3.35010923e-02\n",
            "  2.42820989e-11 1.13258922e-08]\n",
            " ...\n",
            " [1.02306503e-13 4.10653030e-07 1.01510261e-18 ... 8.78527978e-20\n",
            "  7.99419016e-13 9.99999642e-01]\n",
            " [3.41266067e-17 2.19665078e-15 6.65335858e-24 ... 1.10445892e-19\n",
            "  4.79285454e-17 1.00000000e+00]\n",
            " [5.13551883e-15 4.40510846e-08 6.26282728e-17 ... 3.99652406e-16\n",
            "  1.26667394e-12 1.00000000e+00]], shape=(2007, 10), dtype=float32)\n"
          ],
          "name": "stdout"
        }
      ]
    },
    {
      "cell_type": "markdown",
      "metadata": {
        "id": "AsaViqtPA5F1",
        "colab_type": "text"
      },
      "source": [
        "**New work , Finding example that missclassify on Bad Data **"
      ]
    },
    {
      "cell_type": "code",
      "metadata": {
        "id": "h7EahgT3BO7k",
        "colab_type": "code",
        "colab": {}
      },
      "source": [
        "correct_example= []\n",
        "incorrect_example = []\n",
        "\n",
        "for x in range(len(x_train_bad_samples)):\n",
        "  predict = model.predict(x_train_bad_samples[x].reshape(-1,32,32,3)).round()\n",
        "  if(np.argmax(predict[0]) == np.argmax(y_train_bad_labels[x])):\n",
        "    correct_example.append(x_train_bad_samples[x])\n",
        "  else:\n",
        "    incorrect_example.append(x_train_bad_samples[x])\n"
      ],
      "execution_count": 0,
      "outputs": []
    },
    {
      "cell_type": "code",
      "metadata": {
        "id": "9JLP0hEiSfJq",
        "colab_type": "code",
        "outputId": "ff2f584a-d060-41d0-d716-a32bf07f2161",
        "colab": {
          "base_uri": "https://localhost:8080/",
          "height": 34
        }
      },
      "source": [
        "print(len(correct_example))"
      ],
      "execution_count": 0,
      "outputs": [
        {
          "output_type": "stream",
          "text": [
            "1831\n"
          ],
          "name": "stdout"
        }
      ]
    },
    {
      "cell_type": "code",
      "metadata": {
        "id": "NaiwyR7AbJbJ",
        "colab_type": "code",
        "outputId": "71346d91-83a9-41b7-f8ee-bb595d505008",
        "colab": {
          "base_uri": "https://localhost:8080/",
          "height": 34
        }
      },
      "source": [
        "len(incorrect_example)"
      ],
      "execution_count": 0,
      "outputs": [
        {
          "output_type": "execute_result",
          "data": {
            "text/plain": [
              "165"
            ]
          },
          "metadata": {
            "tags": []
          },
          "execution_count": 24
        }
      ]
    },
    {
      "cell_type": "code",
      "metadata": {
        "id": "cx9r-6YJezC8",
        "colab_type": "code",
        "colab": {}
      },
      "source": [
        "def gallery(array, ncols=3):\n",
        "    height, width, intensity = array[0].shape\n",
        "    nindex=len(array)\n",
        "    nrows = nindex//ncols\n",
        "    assert nindex == nrows*ncols\n",
        "    # want result.shape = (height*nrows, width*ncols, intensity)\n",
        "    result = (array.reshape(nrows, ncols, height, width, intensity)\n",
        "              .swapaxes(1,2)\n",
        "              .reshape(height*nrows, width*ncols, intensity))\n",
        "    return result"
      ],
      "execution_count": 0,
      "outputs": []
    },
    {
      "cell_type": "code",
      "metadata": {
        "id": "kJuGPsYge153",
        "colab_type": "code",
        "colab": {}
      },
      "source": [
        ""
      ],
      "execution_count": 0,
      "outputs": []
    },
    {
      "cell_type": "code",
      "metadata": {
        "id": "FhaRvYTXb-vk",
        "colab_type": "code",
        "outputId": "ca4257dd-b95e-46f2-f380-1adbc10465f8",
        "colab": {
          "base_uri": "https://localhost:8080/",
          "height": 302
        }
      },
      "source": [
        "%pylab inline\n",
        "import matplotlib.pyplot as plt\n",
        "import matplotlib.image as mpimg\n",
        "# img=mpimg.imread('your_image.png')\n",
        "# imgplot2 = plt.imshow(correct_example[1])\n",
        "f, axarr = plt.subplots(2,2)\n",
        "axarr[0,0].imshow(correct_example[0])\n",
        "axarr[0,1].imshow(correct_example[1])\n",
        "axarr[1,0].imshow(correct_example[2])\n",
        "axarr[1,1].imshow(correct_example[3])\n",
        "# plt.show()"
      ],
      "execution_count": 0,
      "outputs": [
        {
          "output_type": "stream",
          "text": [
            "Populating the interactive namespace from numpy and matplotlib\n"
          ],
          "name": "stdout"
        },
        {
          "output_type": "execute_result",
          "data": {
            "text/plain": [
              "<matplotlib.image.AxesImage at 0x7feb90339860>"
            ]
          },
          "metadata": {
            "tags": []
          },
          "execution_count": 24
        },
        {
          "output_type": "display_data",
          "data": {
            "image/png": "[encoded data removed]",
            "text/plain": [
              "<Figure size 432x288 with 4 Axes>"
            ]
          },
          "metadata": {
            "tags": []
          }
        }
      ]
    },
    {
      "cell_type": "code",
      "metadata": {
        "id": "DfOGjxtrwpH0",
        "colab_type": "code",
        "outputId": "2c5b1dde-dbd3-4c37-8143-f50da3651bbc",
        "colab": {
          "base_uri": "https://localhost:8080/",
          "height": 269
        }
      },
      "source": [
        "size = 5\n",
        "itr = 0\n",
        "f, axarr = plt.subplots(size,size)\n",
        "for i in range(size):\n",
        "  for j in range(size):\n",
        "    axarr[j,i].imshow(incorrect_example[itr])\n",
        "    itr+=1"
      ],
      "execution_count": 0,
      "outputs": [
        {
          "output_type": "display_data",
          "data": {
            "image/png": "[encoded data removed]",
            "text/plain": [
              "<Figure size 432x288 with 25 Axes>"
            ]
          },
          "metadata": {
            "tags": []
          }
        }
      ]
    },
    {
      "cell_type": "code",
      "metadata": {
        "id": "4k0VS75myPEc",
        "colab_type": "code",
        "outputId": "f5b7a712-38d5-4746-8069-88557a6b7831",
        "colab": {
          "base_uri": "https://localhost:8080/",
          "height": 269
        }
      },
      "source": [
        "size = 5\n",
        "itr = 0\n",
        "f, axarr = plt.subplots(size,size)\n",
        "for i in range(size):\n",
        "  for j in range(size):\n",
        "    axarr[j,i].imshow(correct_example[itr])\n",
        "    itr+=1"
      ],
      "execution_count": 0,
      "outputs": [
        {
          "output_type": "display_data",
          "data": {
            "image/png": "[encoded data removed]",
            "text/plain": [
              "<Figure size 432x288 with 25 Axes>"
            ]
          },
          "metadata": {
            "tags": []
          }
        }
      ]
    },
    {
      "cell_type": "code",
      "metadata": {
        "id": "Sj5EgagfbMnj",
        "colab_type": "code",
        "outputId": "7e6652f4-b7b6-4d01-d74f-6bd637ee1646",
        "colab": {
          "base_uri": "https://localhost:8080/",
          "height": 34
        }
      },
      "source": [
        "x_train_bad_samples.shape[0]"
      ],
      "execution_count": 0,
      "outputs": [
        {
          "output_type": "execute_result",
          "data": {
            "text/plain": [
              "2030"
            ]
          },
          "metadata": {
            "tags": []
          },
          "execution_count": 25
        }
      ]
    },
    {
      "cell_type": "code",
      "metadata": {
        "id": "-6h10sDgbQd5",
        "colab_type": "code",
        "outputId": "fe30ac19-9d42-443d-a946-d735609b7a07",
        "colab": {
          "base_uri": "https://localhost:8080/",
          "height": 34
        }
      },
      "source": [
        "1865+165"
      ],
      "execution_count": 0,
      "outputs": [
        {
          "output_type": "execute_result",
          "data": {
            "text/plain": [
              "2030"
            ]
          },
          "metadata": {
            "tags": []
          },
          "execution_count": 27
        }
      ]
    },
    {
      "cell_type": "code",
      "metadata": {
        "id": "4P68aJYU6iBB",
        "colab_type": "code",
        "colab": {}
      },
      "source": [
        "len(bad_data)"
      ],
      "execution_count": 0,
      "outputs": []
    },
    {
      "cell_type": "code",
      "metadata": {
        "id": "81pAeZqp6n74",
        "colab_type": "code",
        "colab": {}
      },
      "source": [
        "# model1 = ModelX(\"cifar10\",x_train_bad_samples,y_train_bad_labels)"
      ],
      "execution_count": 0,
      "outputs": []
    },
    {
      "cell_type": "code",
      "metadata": {
        "id": "rb2MZQtuLSep",
        "colab_type": "code",
        "colab": {}
      },
      "source": [
        "model.train_partial(x_train_bad_samples, y_train_bad_labels)"
      ],
      "execution_count": 0,
      "outputs": []
    },
    {
      "cell_type": "code",
      "metadata": {
        "id": "5NL_3N_PXCw7",
        "colab_type": "code",
        "colab": {}
      },
      "source": [
        "model.evaluate_test()"
      ],
      "execution_count": 0,
      "outputs": []
    },
    {
      "cell_type": "code",
      "metadata": {
        "id": "P6JTeORx1X6g",
        "colab_type": "code",
        "colab": {}
      },
      "source": [
        ""
      ],
      "execution_count": 0,
      "outputs": []
    }
  ]
}